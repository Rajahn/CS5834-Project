{
 "cells": [
  {
   "cell_type": "code",
   "execution_count": 12,
   "id": "initial_id",
   "metadata": {
    "collapsed": true,
    "ExecuteTime": {
     "end_time": "2024-11-30T17:29:08.892593900Z",
     "start_time": "2024-11-30T17:29:08.613320200Z"
    }
   },
   "outputs": [],
   "source": [
    "import pandas as pd\n",
    "import numpy as np\n",
    "import matplotlib.pyplot as plt\n",
    "import seaborn as sns\n",
    "\n",
    "import folium\n",
    "import warnings\n",
    "warnings.filterwarnings('ignore')\n"
   ]
  },
  {
   "cell_type": "code",
   "execution_count": 2,
   "outputs": [
    {
     "name": "stdout",
     "output_type": "stream",
     "text": [
      "Loading data...\n"
     ]
    }
   ],
   "source": [
    "\n",
    "# 1. 数据加载和基础清洗\n",
    "print(\"Loading data...\")\n",
    "file_path = 'yellow_tripdata_2015-01.csv'\n",
    "data = pd.read_csv(file_path, usecols=[\n",
    "    'tpep_pickup_datetime', 'tpep_dropoff_datetime',\n",
    "    'pickup_longitude', 'pickup_latitude',\n",
    "    'dropoff_longitude', 'dropoff_latitude'\n",
    "])\n"
   ],
   "metadata": {
    "collapsed": false,
    "ExecuteTime": {
     "end_time": "2024-11-30T17:26:30.103233400Z",
     "start_time": "2024-11-30T17:26:16.223450700Z"
    }
   },
   "id": "a04a280d6e01e329"
  },
  {
   "cell_type": "code",
   "execution_count": 3,
   "outputs": [],
   "source": [
    "# 转换时间格式\n",
    "data['tpep_pickup_datetime'] = pd.to_datetime(data['tpep_pickup_datetime'])\n",
    "data['tpep_dropoff_datetime'] = pd.to_datetime(data['tpep_dropoff_datetime'])\n"
   ],
   "metadata": {
    "collapsed": false,
    "ExecuteTime": {
     "end_time": "2024-11-30T17:26:52.313676Z",
     "start_time": "2024-11-30T17:26:43.117335900Z"
    }
   },
   "id": "111c609b21ed0161"
  },
  {
   "cell_type": "code",
   "execution_count": 4,
   "outputs": [],
   "source": [
    "# 定义纽约市区范围\n",
    "nyc_bounds = {\n",
    "    'lon_min': -74.05, 'lon_max': -73.75,\n",
    "    'lat_min': 40.63, 'lat_max': 40.85\n",
    "}"
   ],
   "metadata": {
    "collapsed": false,
    "ExecuteTime": {
     "end_time": "2024-11-30T17:26:59.545491300Z",
     "start_time": "2024-11-30T17:26:59.530490600Z"
    }
   },
   "id": "ba0357be4e3bf27f"
  },
  {
   "cell_type": "code",
   "execution_count": 5,
   "outputs": [],
   "source": [
    "# 过滤异常值\n",
    "clean_data = data[\n",
    "    (data['pickup_longitude'].between(nyc_bounds['lon_min'], nyc_bounds['lon_max'])) &\n",
    "    (data['pickup_latitude'].between(nyc_bounds['lat_min'], nyc_bounds['lat_max'])) &\n",
    "    (data['dropoff_longitude'].between(nyc_bounds['lon_min'], nyc_bounds['lon_max'])) &\n",
    "    (data['dropoff_latitude'].between(nyc_bounds['lat_min'], nyc_bounds['lat_max']))\n",
    "]"
   ],
   "metadata": {
    "collapsed": false,
    "ExecuteTime": {
     "end_time": "2024-11-30T17:27:01.456307400Z",
     "start_time": "2024-11-30T17:27:00.589885400Z"
    }
   },
   "id": "cd76252c36797ab8"
  },
  {
   "cell_type": "code",
   "execution_count": 6,
   "outputs": [
    {
     "name": "stdout",
     "output_type": "stream",
     "text": [
      "原始数据量: 12748986\n",
      "清洗后数据量: 12346105\n",
      "数据清洗比例: 96.84%\n"
     ]
    }
   ],
   "source": [
    "\n",
    "print(f\"原始数据量: {len(data)}\")\n",
    "print(f\"清洗后数据量: {len(clean_data)}\")\n",
    "print(f\"数据清洗比例: {len(clean_data)/len(data)*100:.2f}%\")"
   ],
   "metadata": {
    "collapsed": false,
    "ExecuteTime": {
     "end_time": "2024-11-30T17:27:07.941947900Z",
     "start_time": "2024-11-30T17:27:07.932322100Z"
    }
   },
   "id": "ead9b91699b0c497"
  },
  {
   "cell_type": "code",
   "execution_count": 7,
   "outputs": [],
   "source": [
    "# 2. 数据可视化检查\n",
    "# 采样1000个点进行可视化\n",
    "sample_size = 1000\n",
    "sampled_data = clean_data.sample(n=min(sample_size, len(clean_data)))\n"
   ],
   "metadata": {
    "collapsed": false,
    "ExecuteTime": {
     "end_time": "2024-11-30T17:27:19.433013Z",
     "start_time": "2024-11-30T17:27:18.965033800Z"
    }
   },
   "id": "f2be6a6103bc8f0f"
  },
  {
   "cell_type": "code",
   "execution_count": 13,
   "outputs": [],
   "source": [
    "# 创建地图\n",
    "center_lat = (nyc_bounds['lat_min'] + nyc_bounds['lat_max']) / 2\n",
    "center_lon = (nyc_bounds['lon_min'] + nyc_bounds['lon_max']) / 2\n",
    "m = folium.Map(location=[center_lat, center_lon], zoom_start=12)"
   ],
   "metadata": {
    "collapsed": false,
    "ExecuteTime": {
     "end_time": "2024-11-30T17:29:18.449499200Z",
     "start_time": "2024-11-30T17:29:18.424263400Z"
    }
   },
   "id": "ea5266a5c207f721"
  },
  {
   "cell_type": "code",
   "execution_count": 14,
   "outputs": [],
   "source": [
    "# 添加采样点\n",
    "for _, row in sampled_data.iterrows():\n",
    "    # 上车点（蓝色）\n",
    "    folium.CircleMarker(\n",
    "        [row['pickup_latitude'], row['pickup_longitude']],\n",
    "        radius=2,\n",
    "        color='blue',\n",
    "        fill=True,\n",
    "        popup='Pickup'\n",
    "    ).add_to(m)\n",
    "    \n",
    "    # 下车点（红色）\n",
    "    folium.CircleMarker(\n",
    "        [row['dropoff_latitude'], row['dropoff_longitude']],\n",
    "        radius=2,\n",
    "        color='red',\n",
    "        fill=True,\n",
    "        popup='Dropoff'\n",
    "    ).add_to(m)\n",
    "\n",
    "m.save('taxi_points_map.html')"
   ],
   "metadata": {
    "collapsed": false,
    "ExecuteTime": {
     "end_time": "2024-11-30T17:29:26.440941900Z",
     "start_time": "2024-11-30T17:29:25.294965400Z"
    }
   },
   "id": "cfd5c008f901a298"
  },
  {
   "cell_type": "code",
   "execution_count": 15,
   "outputs": [],
   "source": [
    "# 3. 拆分上车点和下车点数据\n",
    "# 创建上车点数据\n",
    "pickup_data = clean_data[['tpep_pickup_datetime', 'pickup_longitude', 'pickup_latitude']].copy()\n",
    "pickup_data['point_type'] = 1  # 1表示上车点\n",
    "pickup_data.columns = ['datetime', 'longitude', 'latitude', 'point_type']\n",
    "\n",
    "# 创建下车点数据\n",
    "dropoff_data = clean_data[['tpep_dropoff_datetime', 'dropoff_longitude', 'dropoff_latitude']].copy()\n",
    "dropoff_data['point_type'] = 0  # 0表示下车点\n",
    "dropoff_data.columns = ['datetime', 'longitude', 'latitude', 'point_type']\n",
    "\n",
    "# 合并数据并按时间排序\n",
    "combined_data = pd.concat([pickup_data, dropoff_data], ignore_index=True)\n",
    "combined_data.sort_values('datetime', inplace=True)"
   ],
   "metadata": {
    "collapsed": false,
    "ExecuteTime": {
     "end_time": "2024-11-30T17:29:38.595372700Z",
     "start_time": "2024-11-30T17:29:34.989437800Z"
    }
   },
   "id": "2820903183fb7446"
  },
  {
   "cell_type": "code",
   "execution_count": 16,
   "outputs": [],
   "source": [
    "# 4. 创建网格数据\n",
    "# 设置参数\n",
    "grid_size = (50, 50)\n",
    "time_slot_minutes = 30\n",
    "\n",
    "# 添加时间片和星期几特征\n",
    "combined_data['time_slot'] = combined_data['datetime'].dt.floor(f'{time_slot_minutes}T')\n",
    "combined_data['day_of_week'] = combined_data['datetime'].dt.dayofweek\n",
    "combined_data['hour'] = combined_data['datetime'].dt.hour\n",
    "\n",
    "# 计算网格索引\n",
    "combined_data['grid_x'] = ((combined_data['longitude'] - nyc_bounds['lon_min']) / \n",
    "                          (nyc_bounds['lon_max'] - nyc_bounds['lon_min']) * grid_size[0]).astype(int)\n",
    "combined_data['grid_y'] = ((combined_data['latitude'] - nyc_bounds['lat_min']) / \n",
    "                          (nyc_bounds['lat_max'] - nyc_bounds['lat_min']) * grid_size[1]).astype(int)\n",
    "\n",
    "# 确保网格索引在有效范围内\n",
    "combined_data = combined_data[\n",
    "    (combined_data['grid_x'] >= 0) & (combined_data['grid_x'] < grid_size[0]) &\n",
    "    (combined_data['grid_y'] >= 0) & (combined_data['grid_y'] < grid_size[1])\n",
    "]"
   ],
   "metadata": {
    "collapsed": false,
    "ExecuteTime": {
     "end_time": "2024-11-30T17:29:43.736587800Z",
     "start_time": "2024-11-30T17:29:41.559597200Z"
    }
   },
   "id": "f1775224937b07b2"
  },
  {
   "cell_type": "code",
   "execution_count": 17,
   "outputs": [],
   "source": [
    "# 5. 统计网格流量\n",
    "grid_counts = combined_data.groupby(\n",
    "    ['time_slot', 'grid_x', 'grid_y', 'point_type', 'day_of_week', 'hour']\n",
    ").size().reset_index(name='flow')\n"
   ],
   "metadata": {
    "collapsed": false,
    "ExecuteTime": {
     "end_time": "2024-11-30T17:30:10.519451600Z",
     "start_time": "2024-11-30T17:30:08.295999200Z"
    }
   },
   "id": "e8398b108f6c68f8"
  },
  {
   "cell_type": "code",
   "execution_count": 18,
   "outputs": [
    {
     "name": "stdout",
     "output_type": "stream",
     "text": [
      "\n",
      "时间片检查:\n",
      "总时间片数量: 1540\n",
      "时间片间隔: 0 days 00:30:00\n",
      "是否所有时间片间隔相等: False\n"
     ]
    }
   ],
   "source": [
    "# 6. 检查数据连续性\n",
    "time_slots = sorted(grid_counts['time_slot'].unique())\n",
    "time_diff = np.diff([pd.Timestamp(ts) for ts in time_slots])\n",
    "print(\"\\n时间片检查:\")\n",
    "print(f\"总时间片数量: {len(time_slots)}\")\n",
    "print(f\"时间片间隔: {time_diff[0]}\")\n",
    "print(f\"是否所有时间片间隔相等: {all(td == time_diff[0] for td in time_diff)}\")\n"
   ],
   "metadata": {
    "collapsed": false,
    "ExecuteTime": {
     "end_time": "2024-11-30T17:30:13.183887Z",
     "start_time": "2024-11-30T17:30:13.167712400Z"
    }
   },
   "id": "c004e7e7b1e15ce5"
  },
  {
   "cell_type": "code",
   "execution_count": 20,
   "outputs": [
    {
     "name": "stdout",
     "output_type": "stream",
     "text": [
      "\n",
      "创建预测数据数组...\n",
      "处理时间片: 0/1540\n",
      "处理时间片: 100/1540\n",
      "处理时间片: 200/1540\n",
      "处理时间片: 300/1540\n",
      "处理时间片: 400/1540\n",
      "处理时间片: 500/1540\n",
      "处理时间片: 600/1540\n",
      "处理时间片: 700/1540\n",
      "处理时间片: 800/1540\n",
      "处理时间片: 900/1540\n",
      "处理时间片: 1000/1540\n",
      "处理时间片: 1100/1540\n",
      "处理时间片: 1200/1540\n",
      "处理时间片: 1300/1540\n",
      "处理时间片: 1400/1540\n",
      "处理时间片: 1500/1540\n"
     ]
    }
   ],
   "source": [
    "# 7. 创建用于预测的数据数组\n",
    "print(\"\\n创建预测数据数组...\")\n",
    "# 创建五维数组 (时间, 空间X, 空间Y, 通道数[pickup,dropoff], 特征[flow,day_of_week,hour])\n",
    "volume_data = np.zeros((len(time_slots), grid_size[0], grid_size[1], 2, 3))\n",
    "\n",
    "# 填充数据\n",
    "for t_idx, time_slot in enumerate(time_slots):\n",
    "    if t_idx % 100 == 0:  # 每处理100个时间片打印一次进度\n",
    "        print(f\"处理时间片: {t_idx}/{len(time_slots)}\")\n",
    "    time_data = grid_counts[grid_counts['time_slot'] == time_slot]\n",
    "    \n",
    "    for _, row in time_data.iterrows():\n",
    "        # 流量数据\n",
    "        volume_data[t_idx, row['grid_x'], row['grid_y'], row['point_type'], 0] = row['flow']\n",
    "        # 时间特征\n",
    "        volume_data[t_idx, row['grid_x'], row['grid_y'], row['point_type'], 1] = row['day_of_week']\n",
    "        volume_data[t_idx, row['grid_x'], row['grid_y'], row['point_type'], 2] = row['hour']"
   ],
   "metadata": {
    "collapsed": false,
    "ExecuteTime": {
     "end_time": "2024-11-30T17:32:33.181260700Z",
     "start_time": "2024-11-30T17:31:49.989597100Z"
    }
   },
   "id": "fa31b8099548e602"
  },
  {
   "cell_type": "code",
   "execution_count": 21,
   "outputs": [
    {
     "name": "stdout",
     "output_type": "stream",
     "text": [
      "\n",
      "数据统计:\n",
      "数据形状: (1540, 50, 50, 2, 3)\n",
      "时间范围: 2015-01-01 00:00:00 到 2015-03-04 17:30:00\n",
      "平均上车流量: 3.21\n",
      "平均下车流量: 3.21\n"
     ]
    }
   ],
   "source": [
    "# 8. 数据统计和可视化\n",
    "print(\"\\n数据统计:\")\n",
    "print(f\"数据形状: {volume_data.shape}\")\n",
    "print(f\"时间范围: {time_slots[0]} 到 {time_slots[-1]}\")\n",
    "print(f\"平均上车流量: {volume_data[:,:,:,1,0].mean():.2f}\")\n",
    "print(f\"平均下车流量: {volume_data[:,:,:,0,0].mean():.2f}\")\n",
    "\n",
    "# 绘制某个时间片的流量分布\n",
    "sample_time_idx = len(time_slots) // 2  # 取中间时间片\n",
    "plt.figure(figsize=(15, 5))\n",
    "\n",
    "# 上车点热力图\n",
    "plt.subplot(121)\n",
    "sns.heatmap(volume_data[sample_time_idx, :, :, 1, 0].T, \n",
    "            cmap='YlOrRd', \n",
    "            cbar_kws={'label': 'Pickup Flow'})\n",
    "plt.title(f'Pickup Flow at {time_slots[sample_time_idx]}')\n",
    "\n",
    "# 下车点热力图\n",
    "plt.subplot(122)\n",
    "sns.heatmap(volume_data[sample_time_idx, :, :, 0, 0].T, \n",
    "            cmap='YlOrRd', \n",
    "            cbar_kws={'label': 'Dropoff Flow'})\n",
    "plt.title(f'Dropoff Flow at {time_slots[sample_time_idx]}')\n",
    "\n",
    "plt.tight_layout()\n",
    "plt.savefig('flow_distribution.png')\n",
    "plt.close()"
   ],
   "metadata": {
    "collapsed": false,
    "ExecuteTime": {
     "end_time": "2024-11-30T17:32:58.730484500Z",
     "start_time": "2024-11-30T17:32:57.868672Z"
    }
   },
   "id": "2e69ea29cc6b8c3d"
  },
  {
   "cell_type": "code",
   "execution_count": 22,
   "outputs": [
    {
     "name": "stdout",
     "output_type": "stream",
     "text": [
      "\n",
      "数据集划分:\n",
      "训练集形状: (1078, 50, 50, 2, 3)\n",
      "测试集形状: (462, 50, 50, 2, 3)\n"
     ]
    }
   ],
   "source": [
    "# 9. 划分训练集和测试集\n",
    "split_idx = int(len(time_slots) * 0.7)\n",
    "volume_train = volume_data[:split_idx]\n",
    "volume_test = volume_data[split_idx:]\n",
    "# 保存数据\n",
    "np.savez('volume_train.npz', \n",
    "         volume=volume_train, \n",
    "         time_slots=time_slots[:split_idx])\n",
    "np.savez('volume_test.npz', \n",
    "         volume=volume_test,\n",
    "         time_slots=time_slots[split_idx:])\n",
    "\n",
    "print(\"\\n数据集划分:\")\n",
    "print(f\"训练集形状: {volume_train.shape}\")\n",
    "print(f\"测试集形状: {volume_test.shape}\")"
   ],
   "metadata": {
    "collapsed": false,
    "ExecuteTime": {
     "end_time": "2024-11-30T17:34:25.084216Z",
     "start_time": "2024-11-30T17:34:24.882328600Z"
    }
   },
   "id": "ba8496e023a26f1c"
  },
  {
   "cell_type": "code",
   "execution_count": null,
   "outputs": [],
   "source": [],
   "metadata": {
    "collapsed": false
   },
   "id": "4c66854e7e9689f2"
  }
 ],
 "metadata": {
  "kernelspec": {
   "display_name": "Python 3",
   "language": "python",
   "name": "python3"
  },
  "language_info": {
   "codemirror_mode": {
    "name": "ipython",
    "version": 2
   },
   "file_extension": ".py",
   "mimetype": "text/x-python",
   "name": "python",
   "nbconvert_exporter": "python",
   "pygments_lexer": "ipython2",
   "version": "2.7.6"
  }
 },
 "nbformat": 4,
 "nbformat_minor": 5
}
